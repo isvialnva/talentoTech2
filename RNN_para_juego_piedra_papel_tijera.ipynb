{
  "nbformat": 4,
  "nbformat_minor": 0,
  "metadata": {
    "colab": {
      "provenance": []
    },
    "kernelspec": {
      "name": "python3",
      "display_name": "Python 3"
    },
    "language_info": {
      "name": "python"
    }
  },
  "cells": [
    {
      "cell_type": "markdown",
      "source": [
        "# Autor: Duver Ivan Lectamo Silva\n",
        "# C4 Integligencia artificial nivel innovador\n",
        "\n",
        "Modelo que aprende a jugar un juego simple de Piedra, Papel o Tijera contra un oponente con un patrón predecible.\n",
        "\n",
        "Este modelo de RNN intentará predecir la próxima jugada del oponente basándose en la secuencia de jugadas anteriores. Esto simula cómo un jugador humano podría intentar detectar patrones en el juego de su oponente"
      ],
      "metadata": {
        "id": "XnVY4Ej0DHvn"
      }
    },
    {
      "cell_type": "markdown",
      "source": [
        "Import librerias"
      ],
      "metadata": {
        "id": "-13OJOogFqou"
      }
    },
    {
      "cell_type": "code",
      "execution_count": 122,
      "metadata": {
        "id": "bE6obdV4C9Ii"
      },
      "outputs": [],
      "source": [
        "import numpy as np\n",
        "import pandas as pd\n",
        "import tensorflow as tf\n",
        "from tensorflow.keras.models import Sequential\n",
        "from tensorflow.keras.layers import LSTM, Dense, Dropout\n",
        "from tensorflow.keras.optimizers import Adam\n",
        "from sklearn.model_selection import train_test_split\n",
        "from tensorflow.keras.regularizers import l2\n",
        "from sklearn.metrics import confusion_matrix\n",
        "import seaborn as sns\n",
        "import matplotlib.pyplot as plt"
      ]
    },
    {
      "cell_type": "markdown",
      "source": [
        "# Cargamos los datos"
      ],
      "metadata": {
        "id": "XiQQpAgSJs8j"
      }
    },
    {
      "cell_type": "code",
      "source": [
        "data = pd.read_csv('rps_generated.csv')\n",
        "moves = ['PI', 'PA', 'TI']\n",
        "move_to_index = {move: i for i, move in enumerate(moves)}\n",
        "index_to_move = {i: move for move, i in move_to_index.items()}"
      ],
      "metadata": {
        "id": "brUM4HyZJxV_"
      },
      "execution_count": 123,
      "outputs": []
    },
    {
      "cell_type": "code",
      "source": [
        "data\n"
      ],
      "metadata": {
        "colab": {
          "base_uri": "https://localhost:8080/",
          "height": 424
        },
        "id": "cYImmOGaJ4mX",
        "outputId": "819d3dec-a87a-4916-cd84-e4c2c56932d6"
      },
      "execution_count": 124,
      "outputs": [
        {
          "output_type": "execute_result",
          "data": {
            "text/plain": [
              "        game_id  move_id  p1  p2\n",
              "0             0        0  TI  PI\n",
              "1             0        1  TI  PI\n",
              "2             0        2  PI  TI\n",
              "3             0        3  PI  PI\n",
              "4             0        4  PI  PI\n",
              "...         ...      ...  ..  ..\n",
              "199995     1999       95  TI  PA\n",
              "199996     1999       96  PA  PI\n",
              "199997     1999       97  PI  PA\n",
              "199998     1999       98  PI  PI\n",
              "199999     1999       99  TI  PI\n",
              "\n",
              "[200000 rows x 4 columns]"
            ],
            "text/html": [
              "\n",
              "  <div id=\"df-cf3cf6c1-9d10-413e-a1f7-aa2adefc7546\" class=\"colab-df-container\">\n",
              "    <div>\n",
              "<style scoped>\n",
              "    .dataframe tbody tr th:only-of-type {\n",
              "        vertical-align: middle;\n",
              "    }\n",
              "\n",
              "    .dataframe tbody tr th {\n",
              "        vertical-align: top;\n",
              "    }\n",
              "\n",
              "    .dataframe thead th {\n",
              "        text-align: right;\n",
              "    }\n",
              "</style>\n",
              "<table border=\"1\" class=\"dataframe\">\n",
              "  <thead>\n",
              "    <tr style=\"text-align: right;\">\n",
              "      <th></th>\n",
              "      <th>game_id</th>\n",
              "      <th>move_id</th>\n",
              "      <th>p1</th>\n",
              "      <th>p2</th>\n",
              "    </tr>\n",
              "  </thead>\n",
              "  <tbody>\n",
              "    <tr>\n",
              "      <th>0</th>\n",
              "      <td>0</td>\n",
              "      <td>0</td>\n",
              "      <td>TI</td>\n",
              "      <td>PI</td>\n",
              "    </tr>\n",
              "    <tr>\n",
              "      <th>1</th>\n",
              "      <td>0</td>\n",
              "      <td>1</td>\n",
              "      <td>TI</td>\n",
              "      <td>PI</td>\n",
              "    </tr>\n",
              "    <tr>\n",
              "      <th>2</th>\n",
              "      <td>0</td>\n",
              "      <td>2</td>\n",
              "      <td>PI</td>\n",
              "      <td>TI</td>\n",
              "    </tr>\n",
              "    <tr>\n",
              "      <th>3</th>\n",
              "      <td>0</td>\n",
              "      <td>3</td>\n",
              "      <td>PI</td>\n",
              "      <td>PI</td>\n",
              "    </tr>\n",
              "    <tr>\n",
              "      <th>4</th>\n",
              "      <td>0</td>\n",
              "      <td>4</td>\n",
              "      <td>PI</td>\n",
              "      <td>PI</td>\n",
              "    </tr>\n",
              "    <tr>\n",
              "      <th>...</th>\n",
              "      <td>...</td>\n",
              "      <td>...</td>\n",
              "      <td>...</td>\n",
              "      <td>...</td>\n",
              "    </tr>\n",
              "    <tr>\n",
              "      <th>199995</th>\n",
              "      <td>1999</td>\n",
              "      <td>95</td>\n",
              "      <td>TI</td>\n",
              "      <td>PA</td>\n",
              "    </tr>\n",
              "    <tr>\n",
              "      <th>199996</th>\n",
              "      <td>1999</td>\n",
              "      <td>96</td>\n",
              "      <td>PA</td>\n",
              "      <td>PI</td>\n",
              "    </tr>\n",
              "    <tr>\n",
              "      <th>199997</th>\n",
              "      <td>1999</td>\n",
              "      <td>97</td>\n",
              "      <td>PI</td>\n",
              "      <td>PA</td>\n",
              "    </tr>\n",
              "    <tr>\n",
              "      <th>199998</th>\n",
              "      <td>1999</td>\n",
              "      <td>98</td>\n",
              "      <td>PI</td>\n",
              "      <td>PI</td>\n",
              "    </tr>\n",
              "    <tr>\n",
              "      <th>199999</th>\n",
              "      <td>1999</td>\n",
              "      <td>99</td>\n",
              "      <td>TI</td>\n",
              "      <td>PI</td>\n",
              "    </tr>\n",
              "  </tbody>\n",
              "</table>\n",
              "<p>200000 rows × 4 columns</p>\n",
              "</div>\n",
              "    <div class=\"colab-df-buttons\">\n",
              "\n",
              "  <div class=\"colab-df-container\">\n",
              "    <button class=\"colab-df-convert\" onclick=\"convertToInteractive('df-cf3cf6c1-9d10-413e-a1f7-aa2adefc7546')\"\n",
              "            title=\"Convert this dataframe to an interactive table.\"\n",
              "            style=\"display:none;\">\n",
              "\n",
              "  <svg xmlns=\"http://www.w3.org/2000/svg\" height=\"24px\" viewBox=\"0 -960 960 960\">\n",
              "    <path d=\"M120-120v-720h720v720H120Zm60-500h600v-160H180v160Zm220 220h160v-160H400v160Zm0 220h160v-160H400v160ZM180-400h160v-160H180v160Zm440 0h160v-160H620v160ZM180-180h160v-160H180v160Zm440 0h160v-160H620v160Z\"/>\n",
              "  </svg>\n",
              "    </button>\n",
              "\n",
              "  <style>\n",
              "    .colab-df-container {\n",
              "      display:flex;\n",
              "      gap: 12px;\n",
              "    }\n",
              "\n",
              "    .colab-df-convert {\n",
              "      background-color: #E8F0FE;\n",
              "      border: none;\n",
              "      border-radius: 50%;\n",
              "      cursor: pointer;\n",
              "      display: none;\n",
              "      fill: #1967D2;\n",
              "      height: 32px;\n",
              "      padding: 0 0 0 0;\n",
              "      width: 32px;\n",
              "    }\n",
              "\n",
              "    .colab-df-convert:hover {\n",
              "      background-color: #E2EBFA;\n",
              "      box-shadow: 0px 1px 2px rgba(60, 64, 67, 0.3), 0px 1px 3px 1px rgba(60, 64, 67, 0.15);\n",
              "      fill: #174EA6;\n",
              "    }\n",
              "\n",
              "    .colab-df-buttons div {\n",
              "      margin-bottom: 4px;\n",
              "    }\n",
              "\n",
              "    [theme=dark] .colab-df-convert {\n",
              "      background-color: #3B4455;\n",
              "      fill: #D2E3FC;\n",
              "    }\n",
              "\n",
              "    [theme=dark] .colab-df-convert:hover {\n",
              "      background-color: #434B5C;\n",
              "      box-shadow: 0px 1px 3px 1px rgba(0, 0, 0, 0.15);\n",
              "      filter: drop-shadow(0px 1px 2px rgba(0, 0, 0, 0.3));\n",
              "      fill: #FFFFFF;\n",
              "    }\n",
              "  </style>\n",
              "\n",
              "    <script>\n",
              "      const buttonEl =\n",
              "        document.querySelector('#df-cf3cf6c1-9d10-413e-a1f7-aa2adefc7546 button.colab-df-convert');\n",
              "      buttonEl.style.display =\n",
              "        google.colab.kernel.accessAllowed ? 'block' : 'none';\n",
              "\n",
              "      async function convertToInteractive(key) {\n",
              "        const element = document.querySelector('#df-cf3cf6c1-9d10-413e-a1f7-aa2adefc7546');\n",
              "        const dataTable =\n",
              "          await google.colab.kernel.invokeFunction('convertToInteractive',\n",
              "                                                    [key], {});\n",
              "        if (!dataTable) return;\n",
              "\n",
              "        const docLinkHtml = 'Like what you see? Visit the ' +\n",
              "          '<a target=\"_blank\" href=https://colab.research.google.com/notebooks/data_table.ipynb>data table notebook</a>'\n",
              "          + ' to learn more about interactive tables.';\n",
              "        element.innerHTML = '';\n",
              "        dataTable['output_type'] = 'display_data';\n",
              "        await google.colab.output.renderOutput(dataTable, element);\n",
              "        const docLink = document.createElement('div');\n",
              "        docLink.innerHTML = docLinkHtml;\n",
              "        element.appendChild(docLink);\n",
              "      }\n",
              "    </script>\n",
              "  </div>\n",
              "\n",
              "\n",
              "<div id=\"df-b5a7fc70-2708-4e1f-a948-b6acdbc16efb\">\n",
              "  <button class=\"colab-df-quickchart\" onclick=\"quickchart('df-b5a7fc70-2708-4e1f-a948-b6acdbc16efb')\"\n",
              "            title=\"Suggest charts\"\n",
              "            style=\"display:none;\">\n",
              "\n",
              "<svg xmlns=\"http://www.w3.org/2000/svg\" height=\"24px\"viewBox=\"0 0 24 24\"\n",
              "     width=\"24px\">\n",
              "    <g>\n",
              "        <path d=\"M19 3H5c-1.1 0-2 .9-2 2v14c0 1.1.9 2 2 2h14c1.1 0 2-.9 2-2V5c0-1.1-.9-2-2-2zM9 17H7v-7h2v7zm4 0h-2V7h2v10zm4 0h-2v-4h2v4z\"/>\n",
              "    </g>\n",
              "</svg>\n",
              "  </button>\n",
              "\n",
              "<style>\n",
              "  .colab-df-quickchart {\n",
              "      --bg-color: #E8F0FE;\n",
              "      --fill-color: #1967D2;\n",
              "      --hover-bg-color: #E2EBFA;\n",
              "      --hover-fill-color: #174EA6;\n",
              "      --disabled-fill-color: #AAA;\n",
              "      --disabled-bg-color: #DDD;\n",
              "  }\n",
              "\n",
              "  [theme=dark] .colab-df-quickchart {\n",
              "      --bg-color: #3B4455;\n",
              "      --fill-color: #D2E3FC;\n",
              "      --hover-bg-color: #434B5C;\n",
              "      --hover-fill-color: #FFFFFF;\n",
              "      --disabled-bg-color: #3B4455;\n",
              "      --disabled-fill-color: #666;\n",
              "  }\n",
              "\n",
              "  .colab-df-quickchart {\n",
              "    background-color: var(--bg-color);\n",
              "    border: none;\n",
              "    border-radius: 50%;\n",
              "    cursor: pointer;\n",
              "    display: none;\n",
              "    fill: var(--fill-color);\n",
              "    height: 32px;\n",
              "    padding: 0;\n",
              "    width: 32px;\n",
              "  }\n",
              "\n",
              "  .colab-df-quickchart:hover {\n",
              "    background-color: var(--hover-bg-color);\n",
              "    box-shadow: 0 1px 2px rgba(60, 64, 67, 0.3), 0 1px 3px 1px rgba(60, 64, 67, 0.15);\n",
              "    fill: var(--button-hover-fill-color);\n",
              "  }\n",
              "\n",
              "  .colab-df-quickchart-complete:disabled,\n",
              "  .colab-df-quickchart-complete:disabled:hover {\n",
              "    background-color: var(--disabled-bg-color);\n",
              "    fill: var(--disabled-fill-color);\n",
              "    box-shadow: none;\n",
              "  }\n",
              "\n",
              "  .colab-df-spinner {\n",
              "    border: 2px solid var(--fill-color);\n",
              "    border-color: transparent;\n",
              "    border-bottom-color: var(--fill-color);\n",
              "    animation:\n",
              "      spin 1s steps(1) infinite;\n",
              "  }\n",
              "\n",
              "  @keyframes spin {\n",
              "    0% {\n",
              "      border-color: transparent;\n",
              "      border-bottom-color: var(--fill-color);\n",
              "      border-left-color: var(--fill-color);\n",
              "    }\n",
              "    20% {\n",
              "      border-color: transparent;\n",
              "      border-left-color: var(--fill-color);\n",
              "      border-top-color: var(--fill-color);\n",
              "    }\n",
              "    30% {\n",
              "      border-color: transparent;\n",
              "      border-left-color: var(--fill-color);\n",
              "      border-top-color: var(--fill-color);\n",
              "      border-right-color: var(--fill-color);\n",
              "    }\n",
              "    40% {\n",
              "      border-color: transparent;\n",
              "      border-right-color: var(--fill-color);\n",
              "      border-top-color: var(--fill-color);\n",
              "    }\n",
              "    60% {\n",
              "      border-color: transparent;\n",
              "      border-right-color: var(--fill-color);\n",
              "    }\n",
              "    80% {\n",
              "      border-color: transparent;\n",
              "      border-right-color: var(--fill-color);\n",
              "      border-bottom-color: var(--fill-color);\n",
              "    }\n",
              "    90% {\n",
              "      border-color: transparent;\n",
              "      border-bottom-color: var(--fill-color);\n",
              "    }\n",
              "  }\n",
              "</style>\n",
              "\n",
              "  <script>\n",
              "    async function quickchart(key) {\n",
              "      const quickchartButtonEl =\n",
              "        document.querySelector('#' + key + ' button');\n",
              "      quickchartButtonEl.disabled = true;  // To prevent multiple clicks.\n",
              "      quickchartButtonEl.classList.add('colab-df-spinner');\n",
              "      try {\n",
              "        const charts = await google.colab.kernel.invokeFunction(\n",
              "            'suggestCharts', [key], {});\n",
              "      } catch (error) {\n",
              "        console.error('Error during call to suggestCharts:', error);\n",
              "      }\n",
              "      quickchartButtonEl.classList.remove('colab-df-spinner');\n",
              "      quickchartButtonEl.classList.add('colab-df-quickchart-complete');\n",
              "    }\n",
              "    (() => {\n",
              "      let quickchartButtonEl =\n",
              "        document.querySelector('#df-b5a7fc70-2708-4e1f-a948-b6acdbc16efb button');\n",
              "      quickchartButtonEl.style.display =\n",
              "        google.colab.kernel.accessAllowed ? 'block' : 'none';\n",
              "    })();\n",
              "  </script>\n",
              "</div>\n",
              "\n",
              "  <div id=\"id_095ada18-2061-4b83-9f15-5eac339b3352\">\n",
              "    <style>\n",
              "      .colab-df-generate {\n",
              "        background-color: #E8F0FE;\n",
              "        border: none;\n",
              "        border-radius: 50%;\n",
              "        cursor: pointer;\n",
              "        display: none;\n",
              "        fill: #1967D2;\n",
              "        height: 32px;\n",
              "        padding: 0 0 0 0;\n",
              "        width: 32px;\n",
              "      }\n",
              "\n",
              "      .colab-df-generate:hover {\n",
              "        background-color: #E2EBFA;\n",
              "        box-shadow: 0px 1px 2px rgba(60, 64, 67, 0.3), 0px 1px 3px 1px rgba(60, 64, 67, 0.15);\n",
              "        fill: #174EA6;\n",
              "      }\n",
              "\n",
              "      [theme=dark] .colab-df-generate {\n",
              "        background-color: #3B4455;\n",
              "        fill: #D2E3FC;\n",
              "      }\n",
              "\n",
              "      [theme=dark] .colab-df-generate:hover {\n",
              "        background-color: #434B5C;\n",
              "        box-shadow: 0px 1px 3px 1px rgba(0, 0, 0, 0.15);\n",
              "        filter: drop-shadow(0px 1px 2px rgba(0, 0, 0, 0.3));\n",
              "        fill: #FFFFFF;\n",
              "      }\n",
              "    </style>\n",
              "    <button class=\"colab-df-generate\" onclick=\"generateWithVariable('data')\"\n",
              "            title=\"Generate code using this dataframe.\"\n",
              "            style=\"display:none;\">\n",
              "\n",
              "  <svg xmlns=\"http://www.w3.org/2000/svg\" height=\"24px\"viewBox=\"0 0 24 24\"\n",
              "       width=\"24px\">\n",
              "    <path d=\"M7,19H8.4L18.45,9,17,7.55,7,17.6ZM5,21V16.75L18.45,3.32a2,2,0,0,1,2.83,0l1.4,1.43a1.91,1.91,0,0,1,.58,1.4,1.91,1.91,0,0,1-.58,1.4L9.25,21ZM18.45,9,17,7.55Zm-12,3A5.31,5.31,0,0,0,4.9,8.1,5.31,5.31,0,0,0,1,6.5,5.31,5.31,0,0,0,4.9,4.9,5.31,5.31,0,0,0,6.5,1,5.31,5.31,0,0,0,8.1,4.9,5.31,5.31,0,0,0,12,6.5,5.46,5.46,0,0,0,6.5,12Z\"/>\n",
              "  </svg>\n",
              "    </button>\n",
              "    <script>\n",
              "      (() => {\n",
              "      const buttonEl =\n",
              "        document.querySelector('#id_095ada18-2061-4b83-9f15-5eac339b3352 button.colab-df-generate');\n",
              "      buttonEl.style.display =\n",
              "        google.colab.kernel.accessAllowed ? 'block' : 'none';\n",
              "\n",
              "      buttonEl.onclick = () => {\n",
              "        google.colab.notebook.generateWithVariable('data');\n",
              "      }\n",
              "      })();\n",
              "    </script>\n",
              "  </div>\n",
              "\n",
              "    </div>\n",
              "  </div>\n"
            ],
            "application/vnd.google.colaboratory.intrinsic+json": {
              "type": "dataframe",
              "variable_name": "data"
            }
          },
          "metadata": {},
          "execution_count": 124
        }
      ]
    },
    {
      "cell_type": "markdown",
      "source": [
        "# Preparamos los datos para entrenar la red (RNN)\n",
        "\n",
        "*   data: Es el DataFrame que contiene todos los movimientos de todas las partidas.\n",
        "*   seq_length: Es la longitud de la secuencia que queremos usar para predecir el siguiente movimiento.\n",
        "*   X. almacenará las secuencias de entrada.\n",
        "*   y. almacenará los movimientos objetivo (el movimiento que sigue a cada secuencia).\n",
        "\n",
        "Ejemplo concreto:\n",
        "Supongamos que tenemos una partida con los movimientos: ['PI', 'PA', 'TI, 'PI', 'PA', 'TI', 'PI']\n",
        "\n",
        "Con seq_length = 5,\n",
        "\n",
        "generaríamos:\n",
        "\n",
        "X[0] = [0, 1, 2, 0, 1] (correspondiente a ['PI', 'PA', 'TI', 'PI', 'PA'])\n",
        "\n",
        "y[0] = 2 (correspondiente a 'S')\n",
        "\n",
        "X[1] = [1, 2, 0, 1, 2] (correspondiente a ['PA', 'TI', 'PI', 'PA', 'TI'])\n",
        "\n",
        "y[1] = 0 (correspondiente a 'R')\n",
        "\n",
        "Esto permite que la RNN aprenda a predecir el siguiente movimiento basándose en los 5 movimientos anteriores.\n",
        "\n"
      ],
      "metadata": {
        "id": "i-8D6IcRKlmW"
      }
    },
    {
      "cell_type": "code",
      "source": [
        "def prepare_sequences(data, seq_length):\n",
        "    X, y = [], []\n",
        "    for _, game in data.groupby('game_id'):\n",
        "        moves = game['p1'].tolist()\n",
        "        for i in range(len(moves) - seq_length):\n",
        "            X.append([move_to_index[m] for m in moves[i:i+seq_length]])\n",
        "            y.append(move_to_index[moves[i+seq_length]])\n",
        "    return np.array(X), np.array(y)\n",
        "\n",
        "seq_length = 5\n",
        "X, y = prepare_sequences(data, seq_length)"
      ],
      "metadata": {
        "id": "rmLoCaz9KuHF"
      },
      "execution_count": 125,
      "outputs": []
    },
    {
      "cell_type": "markdown",
      "source": [
        "# Dividir los datos en conjuntos de entrenamiento y prueba"
      ],
      "metadata": {
        "id": "fwtth6VZZJ9x"
      }
    },
    {
      "cell_type": "code",
      "source": [
        "X_train, X_test, y_train, y_test = train_test_split(X, y, test_size=0.2, random_state=42)"
      ],
      "metadata": {
        "id": "OtOWjd18ZKWs"
      },
      "execution_count": 126,
      "outputs": []
    },
    {
      "cell_type": "markdown",
      "source": [
        "# # Reshape X para que sea compatible con LSTM: (muestras, time steps, features)"
      ],
      "metadata": {
        "id": "HJuYt9c61Hnv"
      }
    },
    {
      "cell_type": "code",
      "source": [
        "# X_train = X_train.reshape((X_train.shape[0], seq_length, 1))\n",
        "# X_test = X_test.reshape((X_test.shape[0], seq_length, 1))"
      ],
      "metadata": {
        "id": "62FLCMPS1Dqj"
      },
      "execution_count": 127,
      "outputs": []
    },
    {
      "cell_type": "markdown",
      "source": [
        "# Ahora podemos determinar n_features\n",
        "n_features es el número de características para cada paso de tiempo en la secuencia."
      ],
      "metadata": {
        "id": "QhJEokZj1Op2"
      }
    },
    {
      "cell_type": "code",
      "source": [
        "# n_features = X_train.shape[2]"
      ],
      "metadata": {
        "id": "66qqLpnU1PBW"
      },
      "execution_count": 128,
      "outputs": []
    },
    {
      "cell_type": "markdown",
      "source": [
        "# Crear el modelo RNN"
      ],
      "metadata": {
        "id": "0hA_i9LuZReC"
      }
    },
    {
      "cell_type": "code",
      "source": [
        "model = Sequential([\n",
        "    LSTM(64, input_shape=(seq_length, 1), return_sequences=True),\n",
        "    LSTM(32),\n",
        "    Dense(32, activation='relu'),\n",
        "    Dense(3, activation='softmax')\n",
        "\n",
        "])\n",
        "\n",
        "\n",
        "# def create_model(seq_length, n_features):\n",
        "#     model = Sequential([\n",
        "#         LSTM(128, input_shape=(seq_length, n_features), return_sequences=True, kernel_regularizer=l2(0.01)),\n",
        "#         Dropout(0.3),\n",
        "#         LSTM(64, return_sequences=False),\n",
        "#         Dropout(0.3),\n",
        "#         Dense(32, activation='relu'),\n",
        "#         Dense(3, activation='softmax')\n",
        "#     ])\n",
        "#     model.compile(optimizer=Adam(learning_rate=0.001),\n",
        "#                   loss='sparse_categorical_crossentropy',\n",
        "#                   metrics=['accuracy'])\n",
        "#     return model\n",
        "\n",
        "\n",
        "# def create_model(seq_length, n_features):\n",
        "#    model = Sequential([\n",
        "#        LSTM(32, input_shape=(seq_length, n_features), return_sequences=False),\n",
        "#        Dropout(0.2),\n",
        "#        Dense(16, activation='relu'),\n",
        "#        Dense(3, activation='softmax')\n",
        "#    ])\n",
        "#    model.compile(optimizer=Adam(learning_rate=0.01), loss='sparse_categorical_crossentropy', metrics=['accuracy'])\n",
        "#    return model\n",
        "\n",
        "\n",
        "model = create_model(seq_length, n_features)"
      ],
      "metadata": {
        "colab": {
          "base_uri": "https://localhost:8080/"
        },
        "id": "LZ2fJJ_nZR8l",
        "outputId": "f749555b-79b7-4225-e4df-9b917d89c093"
      },
      "execution_count": 129,
      "outputs": [
        {
          "output_type": "stream",
          "name": "stderr",
          "text": [
            "/usr/local/lib/python3.10/dist-packages/keras/src/layers/rnn/rnn.py:204: UserWarning: Do not pass an `input_shape`/`input_dim` argument to a layer. When using Sequential models, prefer using an `Input(shape)` object as the first layer in the model instead.\n",
            "  super().__init__(**kwargs)\n"
          ]
        }
      ]
    },
    {
      "cell_type": "markdown",
      "source": [
        "# Entrenar el modelo"
      ],
      "metadata": {
        "id": "pexVcsFmZfks"
      }
    },
    {
      "cell_type": "code",
      "source": [
        "history = model.fit(\n",
        "    X_train,\n",
        "    y_train,\n",
        "    epochs=25,\n",
        "    batch_size=32,\n",
        "    validation_data=(X_test, y_test),\n",
        "    verbose=1)"
      ],
      "metadata": {
        "colab": {
          "base_uri": "https://localhost:8080/"
        },
        "id": "lgQp-PLDZg34",
        "outputId": "2382d759-7134-44d5-b356-09492c8c4919"
      },
      "execution_count": 130,
      "outputs": [
        {
          "output_type": "stream",
          "name": "stdout",
          "text": [
            "Epoch 1/25\n",
            "\u001b[1m4750/4750\u001b[0m \u001b[32m━━━━━━━━━━━━━━━━━━━━\u001b[0m\u001b[37m\u001b[0m \u001b[1m20s\u001b[0m 4ms/step - accuracy: 0.3327 - loss: 1.0994 - val_accuracy: 0.3373 - val_loss: 1.0986\n",
            "Epoch 2/25\n",
            "\u001b[1m4750/4750\u001b[0m \u001b[32m━━━━━━━━━━━━━━━━━━━━\u001b[0m\u001b[37m\u001b[0m \u001b[1m17s\u001b[0m 4ms/step - accuracy: 0.3298 - loss: 1.0993 - val_accuracy: 0.3262 - val_loss: 1.0988\n",
            "Epoch 3/25\n",
            "\u001b[1m4750/4750\u001b[0m \u001b[32m━━━━━━━━━━━━━━━━━━━━\u001b[0m\u001b[37m\u001b[0m \u001b[1m16s\u001b[0m 3ms/step - accuracy: 0.3348 - loss: 1.0992 - val_accuracy: 0.3366 - val_loss: 1.0991\n",
            "Epoch 4/25\n",
            "\u001b[1m4750/4750\u001b[0m \u001b[32m━━━━━━━━━━━━━━━━━━━━\u001b[0m\u001b[37m\u001b[0m \u001b[1m17s\u001b[0m 4ms/step - accuracy: 0.3342 - loss: 1.0991 - val_accuracy: 0.3262 - val_loss: 1.0994\n",
            "Epoch 5/25\n",
            "\u001b[1m4750/4750\u001b[0m \u001b[32m━━━━━━━━━━━━━━━━━━━━\u001b[0m\u001b[37m\u001b[0m \u001b[1m16s\u001b[0m 3ms/step - accuracy: 0.3319 - loss: 1.0992 - val_accuracy: 0.3373 - val_loss: 1.0985\n",
            "Epoch 6/25\n",
            "\u001b[1m4750/4750\u001b[0m \u001b[32m━━━━━━━━━━━━━━━━━━━━\u001b[0m\u001b[37m\u001b[0m \u001b[1m16s\u001b[0m 3ms/step - accuracy: 0.3334 - loss: 1.0992 - val_accuracy: 0.3373 - val_loss: 1.0987\n",
            "Epoch 7/25\n",
            "\u001b[1m4750/4750\u001b[0m \u001b[32m━━━━━━━━━━━━━━━━━━━━\u001b[0m\u001b[37m\u001b[0m \u001b[1m21s\u001b[0m 3ms/step - accuracy: 0.3340 - loss: 1.0992 - val_accuracy: 0.3373 - val_loss: 1.0992\n",
            "Epoch 8/25\n",
            "\u001b[1m4750/4750\u001b[0m \u001b[32m━━━━━━━━━━━━━━━━━━━━\u001b[0m\u001b[37m\u001b[0m \u001b[1m20s\u001b[0m 3ms/step - accuracy: 0.3322 - loss: 1.0993 - val_accuracy: 0.3262 - val_loss: 1.0993\n",
            "Epoch 9/25\n",
            "\u001b[1m4750/4750\u001b[0m \u001b[32m━━━━━━━━━━━━━━━━━━━━\u001b[0m\u001b[37m\u001b[0m \u001b[1m22s\u001b[0m 4ms/step - accuracy: 0.3339 - loss: 1.0993 - val_accuracy: 0.3262 - val_loss: 1.1018\n",
            "Epoch 10/25\n",
            "\u001b[1m4750/4750\u001b[0m \u001b[32m━━━━━━━━━━━━━━━━━━━━\u001b[0m\u001b[37m\u001b[0m \u001b[1m16s\u001b[0m 3ms/step - accuracy: 0.3335 - loss: 1.0993 - val_accuracy: 0.3373 - val_loss: 1.0985\n",
            "Epoch 11/25\n",
            "\u001b[1m4750/4750\u001b[0m \u001b[32m━━━━━━━━━━━━━━━━━━━━\u001b[0m\u001b[37m\u001b[0m \u001b[1m16s\u001b[0m 3ms/step - accuracy: 0.3347 - loss: 1.0992 - val_accuracy: 0.3366 - val_loss: 1.0989\n",
            "Epoch 12/25\n",
            "\u001b[1m4750/4750\u001b[0m \u001b[32m━━━━━━━━━━━━━━━━━━━━\u001b[0m\u001b[37m\u001b[0m \u001b[1m17s\u001b[0m 4ms/step - accuracy: 0.3328 - loss: 1.0993 - val_accuracy: 0.3366 - val_loss: 1.0987\n",
            "Epoch 13/25\n",
            "\u001b[1m4750/4750\u001b[0m \u001b[32m━━━━━━━━━━━━━━━━━━━━\u001b[0m\u001b[37m\u001b[0m \u001b[1m17s\u001b[0m 3ms/step - accuracy: 0.3341 - loss: 1.0992 - val_accuracy: 0.3262 - val_loss: 1.1003\n",
            "Epoch 14/25\n",
            "\u001b[1m4750/4750\u001b[0m \u001b[32m━━━━━━━━━━━━━━━━━━━━\u001b[0m\u001b[37m\u001b[0m \u001b[1m17s\u001b[0m 3ms/step - accuracy: 0.3311 - loss: 1.0992 - val_accuracy: 0.3262 - val_loss: 1.0994\n",
            "Epoch 15/25\n",
            "\u001b[1m4750/4750\u001b[0m \u001b[32m━━━━━━━━━━━━━━━━━━━━\u001b[0m\u001b[37m\u001b[0m \u001b[1m16s\u001b[0m 3ms/step - accuracy: 0.3311 - loss: 1.0992 - val_accuracy: 0.3366 - val_loss: 1.0985\n",
            "Epoch 16/25\n",
            "\u001b[1m4750/4750\u001b[0m \u001b[32m━━━━━━━━━━━━━━━━━━━━\u001b[0m\u001b[37m\u001b[0m \u001b[1m21s\u001b[0m 3ms/step - accuracy: 0.3359 - loss: 1.0991 - val_accuracy: 0.3373 - val_loss: 1.0985\n",
            "Epoch 17/25\n",
            "\u001b[1m4750/4750\u001b[0m \u001b[32m━━━━━━━━━━━━━━━━━━━━\u001b[0m\u001b[37m\u001b[0m \u001b[1m20s\u001b[0m 3ms/step - accuracy: 0.3342 - loss: 1.0992 - val_accuracy: 0.3262 - val_loss: 1.0993\n",
            "Epoch 18/25\n",
            "\u001b[1m4750/4750\u001b[0m \u001b[32m━━━━━━━━━━━━━━━━━━━━\u001b[0m\u001b[37m\u001b[0m \u001b[1m22s\u001b[0m 4ms/step - accuracy: 0.3312 - loss: 1.0993 - val_accuracy: 0.3373 - val_loss: 1.0995\n",
            "Epoch 19/25\n",
            "\u001b[1m4750/4750\u001b[0m \u001b[32m━━━━━━━━━━━━━━━━━━━━\u001b[0m\u001b[37m\u001b[0m \u001b[1m20s\u001b[0m 3ms/step - accuracy: 0.3336 - loss: 1.0993 - val_accuracy: 0.3373 - val_loss: 1.0987\n",
            "Epoch 20/25\n",
            "\u001b[1m4750/4750\u001b[0m \u001b[32m━━━━━━━━━━━━━━━━━━━━\u001b[0m\u001b[37m\u001b[0m \u001b[1m16s\u001b[0m 3ms/step - accuracy: 0.3341 - loss: 1.0993 - val_accuracy: 0.3373 - val_loss: 1.0987\n",
            "Epoch 21/25\n",
            "\u001b[1m4750/4750\u001b[0m \u001b[32m━━━━━━━━━━━━━━━━━━━━\u001b[0m\u001b[37m\u001b[0m \u001b[1m21s\u001b[0m 3ms/step - accuracy: 0.3351 - loss: 1.0992 - val_accuracy: 0.3373 - val_loss: 1.0986\n",
            "Epoch 22/25\n",
            "\u001b[1m4750/4750\u001b[0m \u001b[32m━━━━━━━━━━━━━━━━━━━━\u001b[0m\u001b[37m\u001b[0m \u001b[1m17s\u001b[0m 4ms/step - accuracy: 0.3360 - loss: 1.0992 - val_accuracy: 0.3366 - val_loss: 1.0986\n",
            "Epoch 23/25\n",
            "\u001b[1m4750/4750\u001b[0m \u001b[32m━━━━━━━━━━━━━━━━━━━━\u001b[0m\u001b[37m\u001b[0m \u001b[1m16s\u001b[0m 3ms/step - accuracy: 0.3311 - loss: 1.0992 - val_accuracy: 0.3262 - val_loss: 1.0988\n",
            "Epoch 24/25\n",
            "\u001b[1m4750/4750\u001b[0m \u001b[32m━━━━━━━━━━━━━━━━━━━━\u001b[0m\u001b[37m\u001b[0m \u001b[1m17s\u001b[0m 4ms/step - accuracy: 0.3315 - loss: 1.0992 - val_accuracy: 0.3366 - val_loss: 1.0989\n",
            "Epoch 25/25\n",
            "\u001b[1m4750/4750\u001b[0m \u001b[32m━━━━━━━━━━━━━━━━━━━━\u001b[0m\u001b[37m\u001b[0m \u001b[1m17s\u001b[0m 4ms/step - accuracy: 0.3306 - loss: 1.0993 - val_accuracy: 0.3262 - val_loss: 1.0998\n"
          ]
        }
      ]
    },
    {
      "cell_type": "markdown",
      "source": [
        "# Evaluar el modelo"
      ],
      "metadata": {
        "id": "PA4Teii0h2eX"
      }
    },
    {
      "cell_type": "code",
      "source": [
        "test_loss, test_accuracy = model.evaluate(X_test, y_test)\n",
        "print(f\"Test de presición: {test_accuracy}\")"
      ],
      "metadata": {
        "colab": {
          "base_uri": "https://localhost:8080/"
        },
        "id": "8sYf7_nQh5HW",
        "outputId": "6e36b0a3-cac7-40ee-de15-ff354b718764"
      },
      "execution_count": 131,
      "outputs": [
        {
          "output_type": "stream",
          "name": "stdout",
          "text": [
            "\u001b[1m1188/1188\u001b[0m \u001b[32m━━━━━━━━━━━━━━━━━━━━\u001b[0m\u001b[37m\u001b[0m \u001b[1m2s\u001b[0m 2ms/step - accuracy: 0.3231 - loss: 1.0997\n",
            "Test de presición: 0.32615789771080017\n"
          ]
        }
      ]
    },
    {
      "cell_type": "code",
      "source": [
        "y_pred = model.predict(X_test)\n",
        "y_pred_classes = np.argmax(y_pred, axis=1)"
      ],
      "metadata": {
        "colab": {
          "base_uri": "https://localhost:8080/"
        },
        "id": "2oq-_3ECs7iV",
        "outputId": "d373eca3-8388-4ebd-a05c-122e4484bab3"
      },
      "execution_count": 132,
      "outputs": [
        {
          "output_type": "stream",
          "name": "stdout",
          "text": [
            "\u001b[1m1188/1188\u001b[0m \u001b[32m━━━━━━━━━━━━━━━━━━━━\u001b[0m\u001b[37m\u001b[0m \u001b[1m3s\u001b[0m 2ms/step\n"
          ]
        }
      ]
    },
    {
      "cell_type": "code",
      "source": [
        "cm = confusion_matrix(y_test, y_pred_classes)"
      ],
      "metadata": {
        "id": "GMJc_ldStNS4"
      },
      "execution_count": 133,
      "outputs": []
    },
    {
      "cell_type": "code",
      "source": [
        "plt.figure(figsize=(10,8))\n",
        "sns.heatmap(cm, annot=True, fmt='d', cmap='Blues')\n",
        "plt.title('Matriz de Confusión')\n",
        "plt.ylabel('Etiqueta Verdadera')\n",
        "plt.xlabel('Etiqueta Predicha')\n",
        "plt.show()"
      ],
      "metadata": {
        "colab": {
          "base_uri": "https://localhost:8080/",
          "height": 718
        },
        "id": "57Y7yN6ntP3-",
        "outputId": "0c176236-7c4e-42da-db42-288969dd5d42"
      },
      "execution_count": 134,
      "outputs": [
        {
          "output_type": "display_data",
          "data": {
            "text/plain": [
              "<Figure size 1000x800 with 2 Axes>"
            ],
            "image/png": "[encoded data removed]"
          },
          "metadata": {}
        }
      ]
    },
    {
      "cell_type": "code",
      "source": [
        "precision = np.diag(cm) / np.sum(cm, axis=0)\n",
        "recall = np.diag(cm) / np.sum(cm, axis=1)\n",
        "f1_score = 2 * (precision * recall) / (precision + recall)"
      ],
      "metadata": {
        "colab": {
          "base_uri": "https://localhost:8080/"
        },
        "id": "ua1mf9KBtV_r",
        "outputId": "4ba69f69-0abf-44d5-eda5-9fe46b91c21a"
      },
      "execution_count": 135,
      "outputs": [
        {
          "output_type": "stream",
          "name": "stderr",
          "text": [
            "<ipython-input-135-f6765c2f3e60>:1: RuntimeWarning: invalid value encountered in divide\n",
            "  precision = np.diag(cm) / np.sum(cm, axis=0)\n"
          ]
        }
      ]
    },
    {
      "cell_type": "code",
      "source": [
        "print(\"\\nPrecisión por clase:\")\n",
        "for i, move in enumerate(['Piedra', 'Papel', 'Tijera']):\n",
        "    print(f\"{move}: {precision[i]:.4f}\")\n",
        "\n",
        "print(\"\\nRecall por clase:\")\n",
        "for i, move in enumerate(['Piedra', 'Papel', 'Tijera']):\n",
        "    print(f\"{move}: {recall[i]:.4f}\")\n",
        "\n",
        "print(\"\\nPuntuación F1 por clase:\")\n",
        "for i, move in enumerate(['Piedra', 'Papel', 'Tijera']):\n",
        "    print(f\"{move}: {f1_score[i]:.4f}\")"
      ],
      "metadata": {
        "colab": {
          "base_uri": "https://localhost:8080/"
        },
        "id": "0x2gkFGMtYyO",
        "outputId": "014e6f87-22c4-4bb5-867e-72dc6bdd2456"
      },
      "execution_count": 136,
      "outputs": [
        {
          "output_type": "stream",
          "name": "stdout",
          "text": [
            "\n",
            "Precisión por clase:\n",
            "Piedra: nan\n",
            "Papel: nan\n",
            "Tijera: 0.3262\n",
            "\n",
            "Recall por clase:\n",
            "Piedra: 0.0000\n",
            "Papel: 0.0000\n",
            "Tijera: 1.0000\n",
            "\n",
            "Puntuación F1 por clase:\n",
            "Piedra: nan\n",
            "Papel: nan\n",
            "Tijera: 0.4919\n"
          ]
        }
      ]
    },
    {
      "cell_type": "code",
      "source": [
        "def plot_training_history(history):\n",
        "    plt.figure(figsize=(12, 5))\n",
        "\n",
        "    # Gráfico de precisión\n",
        "    plt.subplot(1, 2, 1)\n",
        "    plt.plot(history.history['accuracy'], label='Precisión de entrenamiento')\n",
        "    plt.plot(history.history['val_accuracy'], label='Precisión de validación')\n",
        "    plt.title('Precisión del modelo')\n",
        "    plt.xlabel('Época')\n",
        "    plt.ylabel('Precisión')\n",
        "    plt.legend()\n",
        "\n",
        "    # Gráfico de pérdida\n",
        "    plt.subplot(1, 2, 2)\n",
        "    plt.plot(history.history['loss'], label='Pérdida de entrenamiento')\n",
        "    plt.plot(history.history['val_loss'], label='Pérdida de validación')\n",
        "    plt.title('Pérdida del modelo')\n",
        "    plt.xlabel('Época')\n",
        "    plt.ylabel('Pérdida')\n",
        "    plt.legend()\n",
        "\n",
        "    plt.tight_layout()\n",
        "    plt.show()"
      ],
      "metadata": {
        "id": "-dDkJQvctuN8"
      },
      "execution_count": 137,
      "outputs": []
    },
    {
      "cell_type": "markdown",
      "source": [
        "Interpretación de los gráficos:\n",
        "\n",
        "**Precisión**:\n",
        "\n",
        "Debería aumentar con el tiempo.\n",
        "Si la precisión de entrenamiento es mucho mayor que la de validación, puede indicar sobreajuste.\n",
        "Idealmente, ambas líneas deberían aumentar y converger.\n",
        "\n",
        "\n",
        "**Pérdida**:\n",
        "\n",
        "Debería disminuir con el tiempo.\n",
        "Si la pérdida de entrenamiento es mucho menor que la de validación, puede indicar sobreajuste.\n",
        "Idealmente, ambas líneas deberían disminuir y converger.\n",
        "\n",
        "\n",
        "\n",
        "Patrones a observar:\n",
        "\n",
        "**Aprendizaje saludable:**\n",
        "\n",
        "Tanto la precisión como la pérdida mejoran constantemente para ambos conjuntos de datos.\n",
        "\n",
        "\n",
        "**Sobreajuste**:\n",
        "\n",
        "La precisión/pérdida de entrenamiento mejora, pero la de validación empeora o se estanca.\n",
        "\n",
        "\n",
        "**Subajuste**:\n",
        "\n",
        "Ni la precisión ni la pérdida mejoran significativamente.\n",
        "\n",
        "\n",
        "**Aprendizaje óptimo:**\n",
        "\n",
        "Las curvas de entrenamiento y validación convergen a un nivel de rendimiento satisfactorio."
      ],
      "metadata": {
        "id": "ML2R24D6uCuP"
      }
    },
    {
      "cell_type": "code",
      "source": [
        "plot_training_history(history)"
      ],
      "metadata": {
        "colab": {
          "base_uri": "https://localhost:8080/",
          "height": 507
        },
        "id": "jILEb8P4txES",
        "outputId": "e4695f20-e74e-4794-9219-af1813c64abc"
      },
      "execution_count": 138,
      "outputs": [
        {
          "output_type": "display_data",
          "data": {
            "text/plain": [
              "<Figure size 1200x500 with 2 Axes>"
            ],
            "image/png": "[encoded data removed]"
          },
          "metadata": {}
        }
      ]
    }
  ]
}