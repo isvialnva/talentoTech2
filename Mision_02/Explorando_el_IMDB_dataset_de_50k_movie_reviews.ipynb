{
  "nbformat": 4,
  "nbformat_minor": 0,
  "metadata": {
    "colab": {
      "provenance": []
    },
    "kernelspec": {
      "name": "python3",
      "display_name": "Python 3"
    },
    "language_info": {
      "name": "python"
    }
  },
  "cells": [
    {
      "cell_type": "markdown",
      "source": [
        "Autor: Duver Lectamo\n",
        "Actividad: explorando el IMDB dataset de 50k movie reviews"
      ],
      "metadata": {
        "id": "86fNWhivYy1l"
      }
    },
    {
      "cell_type": "code",
      "execution_count": 97,
      "metadata": {
        "id": "-mBzYp1MXaUR"
      },
      "outputs": [],
      "source": [
        "import pandas as pd\n",
        "import numpy as np\n",
        "import matplotlib.pyplot as plt\n",
        "import seaborn as sns\n",
        "import keras\n",
        "import tensorflow as tf\n",
        "import nltk\n",
        "import string\n",
        "import re\n",
        "import seaborn as sns\n",
        "import matplotlib.pyplot as plt\n",
        "from sklearn.model_selection import train_test_split\n",
        "from sklearn.preprocessing import LabelEncoder\n",
        "from keras.preprocessing.sequence import pad_sequences\n",
        "from keras import preprocessing\n",
        "from tensorflow.keras.preprocessing.text import Tokenizer\n",
        "from keras.models import Sequential\n",
        "from keras.layers import Embedding, LSTM, Dense, Dropout"
      ]
    },
    {
      "cell_type": "markdown",
      "source": [
        "# importando dataset"
      ],
      "metadata": {
        "id": "Gud3KSXCZCfz"
      }
    },
    {
      "cell_type": "code",
      "source": [
        "df = pd.read_csv('IMDB Dataset.csv')\n",
        "print(df.head())"
      ],
      "metadata": {
        "colab": {
          "base_uri": "https://localhost:8080/"
        },
        "id": "8HCABem5ZElR",
        "outputId": "436658dd-8dca-42dc-e798-673070d14d95"
      },
      "execution_count": 98,
      "outputs": [
        {
          "output_type": "stream",
          "name": "stdout",
          "text": [
            "                                              review sentiment\n",
            "0  One of the other reviewers has mentioned that ...  positive\n",
            "1  A wonderful little production. <br /><br />The...  positive\n",
            "2  I thought this was a wonderful way to spend ti...  positive\n",
            "3  Basically there's a family where a little boy ...  negative\n",
            "4  Petter Mattei's \"Love in the Time of Money\" is...  positive\n"
          ]
        }
      ]
    },
    {
      "cell_type": "code",
      "source": [
        "print(df.describe)"
      ],
      "metadata": {
        "colab": {
          "base_uri": "https://localhost:8080/"
        },
        "id": "cSjU2GN7ZHwl",
        "outputId": "5eb9e316-5012-4c66-ff9b-831960aeb5c8"
      },
      "execution_count": 99,
      "outputs": [
        {
          "output_type": "stream",
          "name": "stdout",
          "text": [
            "<bound method NDFrame.describe of                                                   review sentiment\n",
            "0      One of the other reviewers has mentioned that ...  positive\n",
            "1      A wonderful little production. <br /><br />The...  positive\n",
            "2      I thought this was a wonderful way to spend ti...  positive\n",
            "3      Basically there's a family where a little boy ...  negative\n",
            "4      Petter Mattei's \"Love in the Time of Money\" is...  positive\n",
            "...                                                  ...       ...\n",
            "49995  I thought this movie did a down right good job...  positive\n",
            "49996  Bad plot, bad dialogue, bad acting, idiotic di...  negative\n",
            "49997  I am a Catholic taught in parochial elementary...  negative\n",
            "49998  I'm going to have to disagree with the previou...  negative\n",
            "49999  No one expects the Star Trek movies to be high...  negative\n",
            "\n",
            "[50000 rows x 2 columns]>\n"
          ]
        }
      ]
    },
    {
      "cell_type": "markdown",
      "source": [
        "# Recuento de sentimientos"
      ],
      "metadata": {
        "id": "huG-i3LvZS92"
      }
    },
    {
      "cell_type": "code",
      "source": [
        "print(\"Total :\\n\", df['sentiment'].value_counts())"
      ],
      "metadata": {
        "colab": {
          "base_uri": "https://localhost:8080/"
        },
        "id": "Rul1ccnIZVwc",
        "outputId": "dc6645e7-5ee8-466c-a2b8-834fa3cf3a74"
      },
      "execution_count": 100,
      "outputs": [
        {
          "output_type": "stream",
          "name": "stdout",
          "text": [
            "Total :\n",
            " sentiment\n",
            "positive    25000\n",
            "negative    25000\n",
            "Name: count, dtype: int64\n"
          ]
        }
      ]
    },
    {
      "cell_type": "markdown",
      "source": [
        "# Preprocesando las secuencias"
      ],
      "metadata": {
        "id": "YyqbDUWIZngS"
      }
    },
    {
      "cell_type": "code",
      "source": [
        "review = []\n",
        "sentences = list(df['review'])\n",
        "for sen in sentences:\n",
        "    review.append(sen)"
      ],
      "metadata": {
        "id": "7Q4Vr1uYZrzf"
      },
      "execution_count": 101,
      "outputs": []
    },
    {
      "cell_type": "markdown",
      "source": [
        "# Creación de etiquetas"
      ],
      "metadata": {
        "id": "jgOyQhQTZ3Nm"
      }
    },
    {
      "cell_type": "code",
      "source": [
        "labels = df['sentiment']\n",
        "labels = np.array(list(map(lambda x: 1 if x==\"positive\" else 0, labels)))"
      ],
      "metadata": {
        "id": "UmSnW-X5Z6Oq"
      },
      "execution_count": 102,
      "outputs": []
    },
    {
      "cell_type": "markdown",
      "source": [
        "# División de dtaso de entrenamiento y prueba"
      ],
      "metadata": {
        "id": "Xt2U1yH3bPHl"
      }
    },
    {
      "cell_type": "code",
      "source": [
        "train_sentences, test_sentences, train_labels, test_labels = train_test_split(review, labels, test_size=0.20)"
      ],
      "metadata": {
        "id": "gdoywoAUbTon"
      },
      "execution_count": 103,
      "outputs": []
    },
    {
      "cell_type": "markdown",
      "source": [
        "# Tokenización y generacion de las secuencias"
      ],
      "metadata": {
        "id": "kIbqVXNAbkO_"
      }
    },
    {
      "cell_type": "code",
      "source": [
        "from math import trunc\n",
        "vacab_size = 10000\n",
        "max_length = 120\n",
        "embedding_dim = 16\n",
        "trunc_type='post'\n",
        "oov_tok = \"<OOV>\""
      ],
      "metadata": {
        "id": "A60Gy9VrbnBg"
      },
      "execution_count": 104,
      "outputs": []
    },
    {
      "cell_type": "markdown",
      "source": [
        "# Tokenizacion y acolchado de secuencias"
      ],
      "metadata": {
        "id": "URWJeHkHcPoN"
      }
    },
    {
      "cell_type": "code",
      "source": [
        "tokenizer = Tokenizer(num_words=vacab_size, oov_token=oov_tok)"
      ],
      "metadata": {
        "id": "uRmE8jydb9cR"
      },
      "execution_count": 105,
      "outputs": []
    },
    {
      "cell_type": "code",
      "source": [
        "tokenizer.fit_on_texts(train_sentences)\n",
        "word_index = tokenizer.word_index"
      ],
      "metadata": {
        "id": "pxnhUPitfSnN"
      },
      "execution_count": 106,
      "outputs": []
    },
    {
      "cell_type": "markdown",
      "source": [
        "# Generate and pad the training sequences"
      ],
      "metadata": {
        "id": "8PUC06qAfX-X"
      }
    },
    {
      "cell_type": "code",
      "source": [
        "sequences = tokenizer.texts_to_sequences(train_sentences)\n",
        "padded = pad_sequences(sequences,maxlen=max_length, truncating=trunc_type)"
      ],
      "metadata": {
        "id": "o7X-TOs5fXAF"
      },
      "execution_count": 107,
      "outputs": []
    },
    {
      "cell_type": "code",
      "source": [
        "test_sequences = tokenizer.texts_to_sequences(test_sentences)\n",
        "test_padded = pad_sequences(test_sequences,maxlen=max_length, truncating=trunc_type)"
      ],
      "metadata": {
        "id": "CQ8ZYoIWXDHo"
      },
      "execution_count": 108,
      "outputs": []
    },
    {
      "cell_type": "markdown",
      "source": [
        "# Generate and pad test sequences"
      ],
      "metadata": {
        "id": "HF90S9P9flnN"
      }
    },
    {
      "cell_type": "code",
      "source": [
        "# test_padded = test_padded.reshape(test_padded.shape[0], 10, -1)\n",
        "\n",
        "# test_padded = test_padded.reshape(test_padded.shape[0], timesteps, 30)\n",
        "# test_padded = test_padded.reshape(test_padded.shape[0], 1, test_padded.shape[1])\n",
        "# test_sequences = tokenizer.texts_to_sequences(test_sentences)\n",
        "# test_padded = pad_sequences(test_sequences,maxlen=max_length, truncating=trunc_type)\n",
        "# test_sequences = tokenizer.texts_to_sequences(test_sentences)\n",
        "# test_padded = pad_sequences(test_sequences,maxlen=max_length, truncating=trunc_type)\n",
        "# test_padded = np.reshape(test_padded, (test_padded.shape[0], timesteps, test_padded.shape[1] // timesteps))\n"
      ],
      "metadata": {
        "id": "A2SoYugSfrEN"
      },
      "execution_count": 109,
      "outputs": []
    },
    {
      "cell_type": "markdown",
      "source": [
        "# Construccion del modelo"
      ],
      "metadata": {
        "id": "jADhJWGpf_SG"
      }
    },
    {
      "cell_type": "code",
      "source": [
        "model = keras.Sequential([\n",
        "    keras.layers.Embedding(vacab_size, embedding_dim, input_length=max_length),\n",
        "    # keras.layers.Flatten(),\n",
        "    keras.layers.LSTM(64, return_sequences=True),\n",
        "    keras.layers.LSTM(32),\n",
        "    keras.layers.Dense(6, activation=\"relu\"),\n",
        "    keras.layers.Dense(1, activation=\"sigmoid\")\n",
        "])"
      ],
      "metadata": {
        "colab": {
          "base_uri": "https://localhost:8080/"
        },
        "id": "mIhISVHtgBE-",
        "outputId": "bbccca26-360e-462f-b1db-934a6a57fcd6"
      },
      "execution_count": 110,
      "outputs": [
        {
          "output_type": "stream",
          "name": "stderr",
          "text": [
            "/usr/local/lib/python3.10/dist-packages/keras/src/layers/core/embedding.py:90: UserWarning: Argument `input_length` is deprecated. Just remove it.\n",
            "  warnings.warn(\n"
          ]
        }
      ]
    },
    {
      "cell_type": "markdown",
      "source": [
        "# construcción del modelo de entrenamiento"
      ],
      "metadata": {
        "id": "r5jkLTfhgVTn"
      }
    },
    {
      "cell_type": "code",
      "source": [
        "model.compile(loss='binary_crossentropy',optimizer='adam',metrics=['accuracy'])"
      ],
      "metadata": {
        "id": "9u8Kfn0ZgYOS"
      },
      "execution_count": 111,
      "outputs": []
    },
    {
      "cell_type": "markdown",
      "source": [
        "# print the model summary"
      ],
      "metadata": {
        "id": "E5h3XonpgbgP"
      }
    },
    {
      "cell_type": "code",
      "source": [
        "model.summary()"
      ],
      "metadata": {
        "colab": {
          "base_uri": "https://localhost:8080/",
          "height": 289
        },
        "id": "j98fWX8kgfNF",
        "outputId": "1fba0e16-70f6-47bb-ee2c-e4a6d08d8bd4"
      },
      "execution_count": 112,
      "outputs": [
        {
          "output_type": "display_data",
          "data": {
            "text/plain": [
              "\u001b[1mModel: \"sequential_9\"\u001b[0m\n"
            ],
            "text/html": [
              "<pre style=\"white-space:pre;overflow-x:auto;line-height:normal;font-family:Menlo,'DejaVu Sans Mono',consolas,'Courier New',monospace\"><span style=\"font-weight: bold\">Model: \"sequential_9\"</span>\n",
              "</pre>\n"
            ]
          },
          "metadata": {}
        },
        {
          "output_type": "display_data",
          "data": {
            "text/plain": [
              "┏━━━━━━━━━━━━━━━━━━━━━━━━━━━━━━━━━━━━━━┳━━━━━━━━━━━━━━━━━━━━━━━━━━━━━┳━━━━━━━━━━━━━━━━━┓\n",
              "┃\u001b[1m \u001b[0m\u001b[1mLayer (type)                        \u001b[0m\u001b[1m \u001b[0m┃\u001b[1m \u001b[0m\u001b[1mOutput Shape               \u001b[0m\u001b[1m \u001b[0m┃\u001b[1m \u001b[0m\u001b[1m        Param #\u001b[0m\u001b[1m \u001b[0m┃\n",
              "┡━━━━━━━━━━━━━━━━━━━━━━━━━━━━━━━━━━━━━━╇━━━━━━━━━━━━━━━━━━━━━━━━━━━━━╇━━━━━━━━━━━━━━━━━┩\n",
              "│ embedding_9 (\u001b[38;5;33mEmbedding\u001b[0m)              │ ?                           │     \u001b[38;5;34m0\u001b[0m (unbuilt) │\n",
              "├──────────────────────────────────────┼─────────────────────────────┼─────────────────┤\n",
              "│ lstm_23 (\u001b[38;5;33mLSTM\u001b[0m)                       │ ?                           │     \u001b[38;5;34m0\u001b[0m (unbuilt) │\n",
              "├──────────────────────────────────────┼─────────────────────────────┼─────────────────┤\n",
              "│ lstm_24 (\u001b[38;5;33mLSTM\u001b[0m)                       │ ?                           │     \u001b[38;5;34m0\u001b[0m (unbuilt) │\n",
              "├──────────────────────────────────────┼─────────────────────────────┼─────────────────┤\n",
              "│ dense_18 (\u001b[38;5;33mDense\u001b[0m)                     │ ?                           │     \u001b[38;5;34m0\u001b[0m (unbuilt) │\n",
              "├──────────────────────────────────────┼─────────────────────────────┼─────────────────┤\n",
              "│ dense_19 (\u001b[38;5;33mDense\u001b[0m)                     │ ?                           │     \u001b[38;5;34m0\u001b[0m (unbuilt) │\n",
              "└──────────────────────────────────────┴─────────────────────────────┴─────────────────┘\n"
            ],
            "text/html": [
              "<pre style=\"white-space:pre;overflow-x:auto;line-height:normal;font-family:Menlo,'DejaVu Sans Mono',consolas,'Courier New',monospace\">┏━━━━━━━━━━━━━━━━━━━━━━━━━━━━━━━━━━━━━━┳━━━━━━━━━━━━━━━━━━━━━━━━━━━━━┳━━━━━━━━━━━━━━━━━┓\n",
              "┃<span style=\"font-weight: bold\"> Layer (type)                         </span>┃<span style=\"font-weight: bold\"> Output Shape                </span>┃<span style=\"font-weight: bold\">         Param # </span>┃\n",
              "┡━━━━━━━━━━━━━━━━━━━━━━━━━━━━━━━━━━━━━━╇━━━━━━━━━━━━━━━━━━━━━━━━━━━━━╇━━━━━━━━━━━━━━━━━┩\n",
              "│ embedding_9 (<span style=\"color: #0087ff; text-decoration-color: #0087ff\">Embedding</span>)              │ ?                           │     <span style=\"color: #00af00; text-decoration-color: #00af00\">0</span> (unbuilt) │\n",
              "├──────────────────────────────────────┼─────────────────────────────┼─────────────────┤\n",
              "│ lstm_23 (<span style=\"color: #0087ff; text-decoration-color: #0087ff\">LSTM</span>)                       │ ?                           │     <span style=\"color: #00af00; text-decoration-color: #00af00\">0</span> (unbuilt) │\n",
              "├──────────────────────────────────────┼─────────────────────────────┼─────────────────┤\n",
              "│ lstm_24 (<span style=\"color: #0087ff; text-decoration-color: #0087ff\">LSTM</span>)                       │ ?                           │     <span style=\"color: #00af00; text-decoration-color: #00af00\">0</span> (unbuilt) │\n",
              "├──────────────────────────────────────┼─────────────────────────────┼─────────────────┤\n",
              "│ dense_18 (<span style=\"color: #0087ff; text-decoration-color: #0087ff\">Dense</span>)                     │ ?                           │     <span style=\"color: #00af00; text-decoration-color: #00af00\">0</span> (unbuilt) │\n",
              "├──────────────────────────────────────┼─────────────────────────────┼─────────────────┤\n",
              "│ dense_19 (<span style=\"color: #0087ff; text-decoration-color: #0087ff\">Dense</span>)                     │ ?                           │     <span style=\"color: #00af00; text-decoration-color: #00af00\">0</span> (unbuilt) │\n",
              "└──────────────────────────────────────┴─────────────────────────────┴─────────────────┘\n",
              "</pre>\n"
            ]
          },
          "metadata": {}
        },
        {
          "output_type": "display_data",
          "data": {
            "text/plain": [
              "\u001b[1m Total params: \u001b[0m\u001b[38;5;34m0\u001b[0m (0.00 B)\n"
            ],
            "text/html": [
              "<pre style=\"white-space:pre;overflow-x:auto;line-height:normal;font-family:Menlo,'DejaVu Sans Mono',consolas,'Courier New',monospace\"><span style=\"font-weight: bold\"> Total params: </span><span style=\"color: #00af00; text-decoration-color: #00af00\">0</span> (0.00 B)\n",
              "</pre>\n"
            ]
          },
          "metadata": {}
        },
        {
          "output_type": "display_data",
          "data": {
            "text/plain": [
              "\u001b[1m Trainable params: \u001b[0m\u001b[38;5;34m0\u001b[0m (0.00 B)\n"
            ],
            "text/html": [
              "<pre style=\"white-space:pre;overflow-x:auto;line-height:normal;font-family:Menlo,'DejaVu Sans Mono',consolas,'Courier New',monospace\"><span style=\"font-weight: bold\"> Trainable params: </span><span style=\"color: #00af00; text-decoration-color: #00af00\">0</span> (0.00 B)\n",
              "</pre>\n"
            ]
          },
          "metadata": {}
        },
        {
          "output_type": "display_data",
          "data": {
            "text/plain": [
              "\u001b[1m Non-trainable params: \u001b[0m\u001b[38;5;34m0\u001b[0m (0.00 B)\n"
            ],
            "text/html": [
              "<pre style=\"white-space:pre;overflow-x:auto;line-height:normal;font-family:Menlo,'DejaVu Sans Mono',consolas,'Courier New',monospace\"><span style=\"font-weight: bold\"> Non-trainable params: </span><span style=\"color: #00af00; text-decoration-color: #00af00\">0</span> (0.00 B)\n",
              "</pre>\n"
            ]
          },
          "metadata": {}
        }
      ]
    },
    {
      "cell_type": "markdown",
      "source": [
        "# Construcción del modelo de entrenamiento"
      ],
      "metadata": {
        "id": "Ti_Qfb_Jgh5r"
      }
    },
    {
      "cell_type": "code",
      "source": [
        "num_epochs = 10\n",
        "history = model.fit(padded,\n",
        "                    train_labels,\n",
        "                    epochs=num_epochs,\n",
        "                    validation_data=(test_padded, test_labels),\n",
        "                    verbose=1)"
      ],
      "metadata": {
        "colab": {
          "base_uri": "https://localhost:8080/"
        },
        "id": "DD-skF1yWeW_",
        "outputId": "2fb53cbc-59e4-4da5-96cb-3b8091f7d8c4"
      },
      "execution_count": 113,
      "outputs": [
        {
          "output_type": "stream",
          "name": "stdout",
          "text": [
            "Epoch 1/10\n",
            "\u001b[1m1250/1250\u001b[0m \u001b[32m━━━━━━━━━━━━━━━━━━━━\u001b[0m\u001b[37m\u001b[0m \u001b[1m131s\u001b[0m 102ms/step - accuracy: 0.7081 - loss: 0.5314 - val_accuracy: 0.8412 - val_loss: 0.4035\n",
            "Epoch 2/10\n",
            "\u001b[1m1250/1250\u001b[0m \u001b[32m━━━━━━━━━━━━━━━━━━━━\u001b[0m\u001b[37m\u001b[0m \u001b[1m135s\u001b[0m 96ms/step - accuracy: 0.8802 - loss: 0.3015 - val_accuracy: 0.8416 - val_loss: 0.3664\n",
            "Epoch 3/10\n",
            "\u001b[1m1250/1250\u001b[0m \u001b[32m━━━━━━━━━━━━━━━━━━━━\u001b[0m\u001b[37m\u001b[0m \u001b[1m123s\u001b[0m 99ms/step - accuracy: 0.9000 - loss: 0.2572 - val_accuracy: 0.8459 - val_loss: 0.3578\n",
            "Epoch 4/10\n",
            "\u001b[1m1250/1250\u001b[0m \u001b[32m━━━━━━━━━━━━━━━━━━━━\u001b[0m\u001b[37m\u001b[0m \u001b[1m142s\u001b[0m 99ms/step - accuracy: 0.9106 - loss: 0.2251 - val_accuracy: 0.8459 - val_loss: 0.3775\n",
            "Epoch 5/10\n",
            "\u001b[1m1250/1250\u001b[0m \u001b[32m━━━━━━━━━━━━━━━━━━━━\u001b[0m\u001b[37m\u001b[0m \u001b[1m140s\u001b[0m 98ms/step - accuracy: 0.9227 - loss: 0.2006 - val_accuracy: 0.8420 - val_loss: 0.3951\n",
            "Epoch 6/10\n",
            "\u001b[1m1250/1250\u001b[0m \u001b[32m━━━━━━━━━━━━━━━━━━━━\u001b[0m\u001b[37m\u001b[0m \u001b[1m121s\u001b[0m 96ms/step - accuracy: 0.9404 - loss: 0.1605 - val_accuracy: 0.8382 - val_loss: 0.4112\n",
            "Epoch 7/10\n",
            "\u001b[1m1250/1250\u001b[0m \u001b[32m━━━━━━━━━━━━━━━━━━━━\u001b[0m\u001b[37m\u001b[0m \u001b[1m142s\u001b[0m 97ms/step - accuracy: 0.9538 - loss: 0.1349 - val_accuracy: 0.8369 - val_loss: 0.4870\n",
            "Epoch 8/10\n",
            "\u001b[1m1250/1250\u001b[0m \u001b[32m━━━━━━━━━━━━━━━━━━━━\u001b[0m\u001b[37m\u001b[0m \u001b[1m140s\u001b[0m 95ms/step - accuracy: 0.9657 - loss: 0.0990 - val_accuracy: 0.8322 - val_loss: 0.6398\n",
            "Epoch 9/10\n",
            "\u001b[1m1250/1250\u001b[0m \u001b[32m━━━━━━━━━━━━━━━━━━━━\u001b[0m\u001b[37m\u001b[0m \u001b[1m143s\u001b[0m 96ms/step - accuracy: 0.9724 - loss: 0.0842 - val_accuracy: 0.8266 - val_loss: 0.6674\n",
            "Epoch 10/10\n",
            "\u001b[1m1250/1250\u001b[0m \u001b[32m━━━━━━━━━━━━━━━━━━━━\u001b[0m\u001b[37m\u001b[0m \u001b[1m124s\u001b[0m 99ms/step - accuracy: 0.9777 - loss: 0.0712 - val_accuracy: 0.8334 - val_loss: 0.6669\n"
          ]
        }
      ]
    },
    {
      "cell_type": "markdown",
      "source": [
        "# Graficar el historial de entrenamiento"
      ],
      "metadata": {
        "id": "M_gJ9VrCgysB"
      }
    },
    {
      "cell_type": "code",
      "source": [
        "pd.DataFrame(history.history).plot(grid=True)\n"
      ],
      "metadata": {
        "id": "AsSxYMffg2oN",
        "colab": {
          "base_uri": "https://localhost:8080/",
          "height": 447
        },
        "outputId": "d0c3b033-bc39-4bc4-8083-57df68d56c4e"
      },
      "execution_count": 114,
      "outputs": [
        {
          "output_type": "execute_result",
          "data": {
            "text/plain": [
              "<Axes: >"
            ]
          },
          "metadata": {},
          "execution_count": 114
        },
        {
          "output_type": "display_data",
          "data": {
            "text/plain": [
              "<Figure size 640x480 with 1 Axes>"
            ],
            "image/png": "[encoded data removed]"
          },
          "metadata": {}
        }
      ]
    },
    {
      "cell_type": "code",
      "source": [
        "# Pérdida en el conjunto de entrenamiento\n",
        "train_loss = history.history['loss']\n",
        "print(train_loss)\n",
        "\n",
        "# Precisión en el conjunto de entrenamiento\n",
        "train_accuracy = history.history['accuracy']\n",
        "print(train_accuracy)\n",
        "# Pérdida en el conjunto de validación\n",
        "val_loss = history.history['val_loss']\n",
        "print(val_loss)\n",
        "# Precisión en el conjunto de validación\n",
        "val_accuracy = history.history['val_accuracy']\n",
        "print(val_accuracy)"
      ],
      "metadata": {
        "id": "x6ruymbNi65V",
        "colab": {
          "base_uri": "https://localhost:8080/"
        },
        "outputId": "8521e468-9a03-4eb9-ea4a-dcf4cdca383e"
      },
      "execution_count": 115,
      "outputs": [
        {
          "output_type": "stream",
          "name": "stdout",
          "text": [
            "[0.4433479905128479, 0.3084930181503296, 0.26748690009117126, 0.23427189886569977, 0.2029232233762741, 0.1712954044342041, 0.14283350110054016, 0.10780034214258194, 0.08962079137563705, 0.07577617466449738]\n",
            "[0.7864500284194946, 0.8750500082969666, 0.8942000269889832, 0.9065250158309937, 0.9210500121116638, 0.9359250068664551, 0.9485750198364258, 0.9626500010490417, 0.9702249765396118, 0.9758250117301941]\n",
            "[0.4034711718559265, 0.36636412143707275, 0.35777756571769714, 0.3775482773780823, 0.3950907289981842, 0.4112117290496826, 0.4869878888130188, 0.6398151516914368, 0.6673589944839478, 0.666892945766449]\n",
            "[0.8411999940872192, 0.8416000008583069, 0.8458999991416931, 0.8458999991416931, 0.8420000076293945, 0.8381999731063843, 0.836899995803833, 0.8321999907493591, 0.8266000151634216, 0.8334000110626221]\n"
          ]
        }
      ]
    },
    {
      "cell_type": "code",
      "source": [
        "nuevos_textos = [\"This movie is great\", \"I did not like anything\"]\n",
        "nuevas_secuencias = tokenizer.texts_to_sequences(nuevos_textos)\n",
        "nuevas_secuencias_rellenadas = pad_sequences(nuevas_secuencias, maxlen=max_length, truncating=trunc_type)"
      ],
      "metadata": {
        "id": "hxGPs9W2hseK"
      },
      "execution_count": 116,
      "outputs": []
    },
    {
      "cell_type": "code",
      "source": [
        "predicciones = model.predict(nuevas_secuencias_rellenadas)"
      ],
      "metadata": {
        "id": "C4XSj6EahyNx",
        "colab": {
          "base_uri": "https://localhost:8080/"
        },
        "outputId": "df048fe8-b652-449d-c371-f4a1a3bdc58f"
      },
      "execution_count": 117,
      "outputs": [
        {
          "output_type": "stream",
          "name": "stdout",
          "text": [
            "\u001b[1m1/1\u001b[0m \u001b[32m━━━━━━━━━━━━━━━━━━━━\u001b[0m\u001b[37m\u001b[0m \u001b[1m0s\u001b[0m 391ms/step\n"
          ]
        }
      ]
    },
    {
      "cell_type": "code",
      "source": [
        "for prediccion in predicciones:\n",
        "    if prediccion > 0.5:\n",
        "        print(\"Sentimiento positivo\")\n",
        "    else:\n",
        "        print(\"Sentimiento negativo\")"
      ],
      "metadata": {
        "id": "GLsr29zIh2qK",
        "colab": {
          "base_uri": "https://localhost:8080/"
        },
        "outputId": "933cb907-d38a-4da6-82e3-e6c679ba6e1e"
      },
      "execution_count": 118,
      "outputs": [
        {
          "output_type": "stream",
          "name": "stdout",
          "text": [
            "Sentimiento negativo\n",
            "Sentimiento negativo\n"
          ]
        }
      ]
    },
    {
      "cell_type": "markdown",
      "source": [
        "# TODO , hacer prediccione sy obtener la matriz de confusion, con las metricas, distribución de los errores, histograma de predicciones menos reales (.predict, confusión_matrix, plt.hist(error))"
      ],
      "metadata": {
        "id": "cLstGxpBzRMT"
      }
    },
    {
      "cell_type": "code",
      "source": [
        "y_pred = model.predict(test_padded)\n",
        "y_pred = (y_pred > 0.5).astype(int)  # Convertir probabilidades en predicciones binarias\n",
        "\n",
        "# Generar confusion matrix\n",
        "from sklearn.metrics import confusion_matrix\n",
        "cm = confusion_matrix(test_labels, y_pred)"
      ],
      "metadata": {
        "id": "leMh0dPa0reX",
        "colab": {
          "base_uri": "https://localhost:8080/"
        },
        "outputId": "79f3302e-b0fe-4bb5-b702-dc6b101dabef"
      },
      "execution_count": 119,
      "outputs": [
        {
          "output_type": "stream",
          "name": "stdout",
          "text": [
            "\u001b[1m313/313\u001b[0m \u001b[32m━━━━━━━━━━━━━━━━━━━━\u001b[0m\u001b[37m\u001b[0m \u001b[1m11s\u001b[0m 33ms/step\n"
          ]
        }
      ]
    },
    {
      "cell_type": "code",
      "source": [
        "error = y_pred - test_labels\n",
        "plt.hist(error, bins=20)\n",
        "plt.xlabel('Error')\n",
        "plt.ylabel('Frecuencia')\n",
        "plt.title('Distribución de los errores')\n",
        "plt.show()"
      ],
      "metadata": {
        "id": "iavoqPJ427nB",
        "colab": {
          "base_uri": "https://localhost:8080/",
          "height": 472
        },
        "outputId": "caeb4488-d4f8-4358-9bf1-0f5cb811b357"
      },
      "execution_count": 120,
      "outputs": [
        {
          "output_type": "display_data",
          "data": {
            "text/plain": [
              "<Figure size 640x480 with 1 Axes>"
            ],
            "image/png": "[encoded data removed]"
          },
          "metadata": {}
        }
      ]
    },
    {
      "cell_type": "code",
      "source": [
        "sns.heatmap(cm, annot=True, fmt='d')\n",
        "plt.xlabel('Predicted')\n",
        "plt.ylabel('True')\n",
        "plt.title('Confusion Matrix')\n",
        "plt.show()"
      ],
      "metadata": {
        "id": "c5ztrN_K0zpr",
        "colab": {
          "base_uri": "https://localhost:8080/",
          "height": 472
        },
        "outputId": "c710d87b-a41f-4827-ca04-e120f7ec9f02"
      },
      "execution_count": 121,
      "outputs": [
        {
          "output_type": "display_data",
          "data": {
            "text/plain": [
              "<Figure size 640x480 with 2 Axes>"
            ],
            "image/png": "[encoded data removed]"
          },
          "metadata": {}
        }
      ]
    },
    {
      "cell_type": "code",
      "source": [
        "plt.plot(history.history['loss'], label='Training Loss')\n",
        "plt.plot(history.history['val_loss'], label='Validation Loss')\n",
        "plt.xlabel('Epoch')\n",
        "plt.ylabel('Loss')\n",
        "plt.legend()\n",
        "plt.title('Training and Validation Loss')\n",
        "plt.show()"
      ],
      "metadata": {
        "id": "0HyYCjsm1M-X",
        "colab": {
          "base_uri": "https://localhost:8080/",
          "height": 472
        },
        "outputId": "bf94b0b3-23b4-4fd3-a698-cbdaedc8c599"
      },
      "execution_count": 122,
      "outputs": [
        {
          "output_type": "display_data",
          "data": {
            "text/plain": [
              "<Figure size 640x480 with 1 Axes>"
            ],
            "image/png": "[encoded data removed]"
          },
          "metadata": {}
        }
      ]
    }
  ]
}